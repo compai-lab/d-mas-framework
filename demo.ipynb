{
  "cells": [
    {
      "cell_type": "markdown",
      "metadata": {
        "id": "cbInL1b5zcdL"
      },
      "source": [
        "# Deep Medical Anomaly Segmentation Seminar\n",
        "\n",
        "**Make sure to select the correct runtime when working in Google Colab (GPU)**\n",
        "\n",
        "### Demo script to load and visualize data."
      ]
    },
    {
      "cell_type": "markdown",
      "metadata": {
        "id": "eIYx1Gg0zcdf"
      },
      "source": [
        "## Import GitHub project and libraries"
      ]
    },
    {
      "cell_type": "code",
      "execution_count": null,
      "metadata": {
        "id": "nbfzqO-Bzcdb"
      },
      "outputs": [],
      "source": [
        "# Only run this cell when in Google Colab\n",
        "! git init\n",
        "! git remote add origin https://github.com/compai-lab/d-mas-framework.git\n",
        "! git fetch\n",
        "! git checkout -t origin/main\n",
        "\n",
        "!pip install wandb \n",
        "!pip install monai\n",
        "!pip install pytorch-lightning\n",
        "!pip install pytorch_msssim\n",
        "!pip install pystrum"
      ]
    },
    {
      "cell_type": "code",
      "source": [
        "from dl_utils.data_utils import get_data_from_csv\n",
        "from core.Main import Main\n",
        "from torchvision.io import read_image\n",
        "import numpy as np \n",
        "import matplotlib.pyplot as plt \n",
        "import yaml"
      ],
      "metadata": {
        "id": "ikq-70hOOONa"
      },
      "execution_count": 2,
      "outputs": []
    },
    {
      "cell_type": "markdown",
      "source": [
        "## Get data"
      ],
      "metadata": {
        "id": "ylCE_7exObgi"
      }
    },
    {
      "cell_type": "code",
      "source": [
        "! wget -q --show-progress https://www.dropbox.com/s/saa67v5b5gxetvu/rsna.zip\n",
        "! unzip -qq -o rsna.zip"
      ],
      "metadata": {
        "id": "KQsLqmYVPwsC"
      },
      "execution_count": null,
      "outputs": []
    },
    {
      "cell_type": "code",
      "source": [
        "train_files = get_data_from_csv('./data/splits/cxr_normal_train.csv')\n",
        "val_files = get_data_from_csv('./data/splits/cxr_normal_val.csv')\n",
        "test_files = get_data_from_csv('./data/splits/cxr_normal_test.csv')\n",
        "anomaly_files = get_data_from_csv('./data/splits/cxr_opacity_test.csv')"
      ],
      "metadata": {
        "id": "0ww-2IlsPaqH"
      },
      "execution_count": 4,
      "outputs": []
    },
    {
      "cell_type": "markdown",
      "source": [
        "## Visualize data\n",
        "Let's take a look at a few random example of healthy and lung opacity cases"
      ],
      "metadata": {
        "id": "3soBZBR9PnJd"
      }
    },
    {
      "cell_type": "code",
      "source": [
        "nr_elems = 10\n",
        "## Normal \n",
        "elements = np.random.choice(test_files, nr_elems, replace=False) \n",
        "diffp, axarr = plt.subplots(1, len(elements), gridspec_kw={'wspace': 0.1, 'hspace': 0})\n",
        "diffp.suptitle('Healthy', fontsize=14)\n",
        "diffp.set_size_inches(len(elements) * 4, 4)\n",
        "for idx_arr in range(len(axarr)):\n",
        "    axarr[idx_arr].axis('off')\n",
        "    el = read_image(elements[idx_arr])[0]\n",
        "    axarr[idx_arr].imshow(el, cmap='gray')\n",
        "    axarr[idx_arr].set_title(elements[idx_arr].split('/')[-1])\n",
        "\n",
        "## Abnormal \n",
        "elements = np.random.choice(anomaly_files, nr_elems, replace=False) \n",
        "diffp, axarr = plt.subplots(1, len(elements), gridspec_kw={'wspace': 0.1, 'hspace': 0})\n",
        "diffp.suptitle('Lung Opacity', fontsize=14)\n",
        "diffp.set_size_inches(len(elements) * 4, 4)\n",
        "for idx_arr in range(len(axarr)):\n",
        "    axarr[idx_arr].axis('off')\n",
        "    el = read_image(elements[idx_arr])[0]\n",
        "    axarr[idx_arr].imshow(el, cmap='gray')\n",
        "    axarr[idx_arr].set_title(elements[idx_arr].split('/')[-1])"
      ],
      "metadata": {
        "id": "fPb6LZ0IOWoI"
      },
      "execution_count": null,
      "outputs": []
    },
    {
      "cell_type": "markdown",
      "source": [
        "## Run Demo experiment\n",
        "Start an experiment using dense Autoencoders"
      ],
      "metadata": {
        "id": "Ljl1GxM3RzL-"
      }
    },
    {
      "cell_type": "markdown",
      "source": [
        "### Load config file\n",
        "All the parameters of the experiments are defined here, e.g., model, training routine, evaluations, etc... "
      ],
      "metadata": {
        "id": "ZaSnsF1kR_6M"
      }
    },
    {
      "cell_type": "code",
      "source": [
        "config_file = yaml.load(open('./projects/Autoencoders/configs/d-ae.yaml'), Loader=yaml.FullLoader)"
      ],
      "metadata": {
        "id": "r3jLVYZgSJ1J"
      },
      "execution_count": 6,
      "outputs": []
    },
    {
      "cell_type": "markdown",
      "source": [
        "Take a look"
      ],
      "metadata": {
        "id": "UWb1ECKNSWCD"
      }
    },
    {
      "cell_type": "code",
      "source": [
        "config_file"
      ],
      "metadata": {
        "id": "ydCfcRWdSQ1c"
      },
      "execution_count": null,
      "outputs": []
    },
    {
      "cell_type": "markdown",
      "source": [
        "## Run experiment\n",
        "This script will ask for your wandb authorization key, where you can then see the training statiscis, images, and visualizations. "
      ],
      "metadata": {
        "id": "rWbfGVSeYYqW"
      }
    },
    {
      "cell_type": "code",
      "source": [
        "exp = Main(config_file)\n",
        "exp.setup_experiment()"
      ],
      "metadata": {
        "id": "CRz4gXOoSYH0"
      },
      "execution_count": 8,
      "outputs": []
    }
  ],
  "metadata": {
    "kernelspec": {
      "display_name": "Python 3 (ipykernel)",
      "language": "python",
      "name": "python3"
    },
    "language_info": {
      "codemirror_mode": {
        "name": "ipython",
        "version": 3
      },
      "file_extension": ".py",
      "mimetype": "text/x-python",
      "name": "python",
      "nbconvert_exporter": "python",
      "pygments_lexer": "ipython3",
      "version": "3.9.9"
    },
    "vscode": {
      "interpreter": {
        "hash": "59efc9589e5e0a10197249f838db0eb26aa8a323367b3d188d3e2ee96ab5bb66"
      }
    },
    "colab": {
      "provenance": [],
      "collapsed_sections": []
    },
    "accelerator": "GPU",
    "gpuClass": "standard"
  },
  "nbformat": 4,
  "nbformat_minor": 0
}
